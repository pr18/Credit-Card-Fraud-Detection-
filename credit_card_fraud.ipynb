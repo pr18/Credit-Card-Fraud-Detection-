{
  "cells": [
    {
      "cell_type": "code",
      "execution_count": null,
      "metadata": {
        "id": "3fuwDWBOwnlp"
      },
      "outputs": [],
      "source": [
        "#import libraries\n",
        "import warnings\n",
        "warnings.filterwarnings(\"ignore\")\n",
        "import pandas as pd\n",
        "import matplotlib.pyplot as plt\n",
        "import seaborn as sns\n",
        "from sklearn.model_selection import train_test_split\n",
        "from sklearn.linear_model import LogisticRegression\n",
        "from sklearn import metrics\n",
        "from sklearn.metrics import classification_report"
      ]
    },
    {
      "cell_type": "code",
      "execution_count": null,
      "metadata": {
        "id": "4x7kLuBmwnlw"
      },
      "outputs": [],
      "source": [
        "#read the data set\n",
        "data = pd.read_csv(\"C:/Users/Ramya/Downloads/creditcardfraud/creditcard.csv\")"
      ]
    },
    {
      "cell_type": "code",
      "execution_count": null,
      "metadata": {
        "id": "zVS4Fdg5wnlx",
        "outputId": "75b5293e-3e8a-45e7-8c4c-6356716cf4fc"
      },
      "outputs": [
        {
          "name": "stdout",
          "output_type": "stream",
          "text": [
            "Total rows and columns\n",
            "\n",
            " (284807, 31) \n",
            "\n"
          ]
        }
      ],
      "source": [
        "#taking sample from population if need\n",
        "#data = data.sample(30000)\n",
        "\n",
        "#no of rows and columns\n",
        "print(\"Total rows and columns\\n\\n\",data.shape,\"\\n\")\n",
        "\n",
        "#Dependent and independent variable\n",
        "X = data.iloc[:, 1:30].columns\n",
        "\n",
        "y = data['Class']\n",
        "\n",
        "X = data[X]"
      ]
    },
    {
      "cell_type": "code",
      "execution_count": null,
      "metadata": {
        "id": "ph7tS_Fewnl1",
        "outputId": "759ab484-35ac-4114-95b2-d9d8078fb144"
      },
      "outputs": [
        {
          "name": "stdout",
          "output_type": "stream",
          "text": [
            "Total count in each class\n",
            "\n",
            " 0    284315\n",
            "1       492\n",
            "Name: Class, dtype: int64\n",
            "\n",
            "\n"
          ]
        }
      ],
      "source": [
        "#total count in each class\n",
        "count = data['Class'].value_counts()\n",
        "print(\"Total count in each class\\n\\n\",count)\n",
        "print(\"\\n\")"
      ]
    },
    {
      "cell_type": "code",
      "execution_count": null,
      "metadata": {
        "id": "KMGfQlaLwnl3"
      },
      "outputs": [],
      "source": [
        "#splitting the data\n",
        "X_train, X_test, y_train, y_test = train_test_split(X, y, test_size=0.2, random_state=42)"
      ]
    },
    {
      "cell_type": "code",
      "execution_count": null,
      "metadata": {
        "id": "RxjsdqePwnl4"
      },
      "outputs": [],
      "source": [
        "#Build the model\n",
        "clf = LogisticRegression()"
      ]
    },
    {
      "cell_type": "code",
      "execution_count": null,
      "metadata": {
        "id": "GVYY5nkIwnl5",
        "outputId": "5a3fa0c5-0591-46a7-a06c-dd3a60f46d6d"
      },
      "outputs": [
        {
          "data": {
            "text/plain": [
              "LogisticRegression(C=1.0, class_weight=None, dual=False, fit_intercept=True,\n",
              "          intercept_scaling=1, max_iter=100, multi_class='warn',\n",
              "          n_jobs=None, penalty='l2', random_state=None, solver='warn',\n",
              "          tol=0.0001, verbose=0, warm_start=False)"
            ]
          },
          "execution_count": 15,
          "metadata": {},
          "output_type": "execute_result"
        }
      ],
      "source": [
        "# Train the classifier\n",
        "clf.fit(X_train, y_train)"
      ]
    },
    {
      "cell_type": "code",
      "execution_count": null,
      "metadata": {
        "id": "kT6mUXkhwnl6"
      },
      "outputs": [],
      "source": [
        "#test the model\n",
        "y_pred = clf.predict(X_test)"
      ]
    },
    {
      "cell_type": "code",
      "execution_count": null,
      "metadata": {
        "id": "0oPr0zAfwnl7"
      },
      "outputs": [],
      "source": [
        "#classification report\n",
        "cr = (classification_report(y_test, y_pred))"
      ]
    },
    {
      "cell_type": "code",
      "execution_count": null,
      "metadata": {
        "id": "sNTFwhTrwnl8",
        "outputId": "293cb31e-7da6-468a-cadc-288aedbf228d"
      },
      "outputs": [
        {
          "name": "stdout",
          "output_type": "stream",
          "text": [
            "Confusion Matrix:\n",
            "\n",
            " [[56855     9]\n",
            " [   42    56]] \n",
            "\n"
          ]
        }
      ],
      "source": [
        "#confusion matrix\n",
        "cm = (metrics.confusion_matrix(y_test, y_pred))\n",
        "print(\"Confusion Matrix:\\n\\n\",cm,\"\\n\")"
      ]
    },
    {
      "cell_type": "code",
      "execution_count": null,
      "metadata": {
        "id": "X-cInP3Xwnl9",
        "outputId": "b74849f9-4011-45ae-a3ad-b38e066cb44f"
      },
      "outputs": [
        {
          "name": "stdout",
          "output_type": "stream",
          "text": [
            "              precision    recall  f1-score   support\n",
            "\n",
            "           0       1.00      1.00      1.00     56864\n",
            "           1       0.86      0.57      0.69        98\n",
            "\n",
            "   micro avg       1.00      1.00      1.00     56962\n",
            "   macro avg       0.93      0.79      0.84     56962\n",
            "weighted avg       1.00      1.00      1.00     56962\n",
            "\n"
          ]
        }
      ],
      "source": [
        "#classification report\n",
        "print(classification_report(y_test, y_pred))"
      ]
    },
    {
      "cell_type": "code",
      "execution_count": null,
      "metadata": {
        "id": "SmxOv2aVwnl9",
        "outputId": "ea24cce1-7629-480c-c760-7741da4b00d1"
      },
      "outputs": [
        {
          "name": "stdout",
          "output_type": "stream",
          "text": [
            "Accuracy score: 1.0\n"
          ]
        }
      ],
      "source": [
        "#Accuracy score\n",
        "a= (metrics.accuracy_score(y_test, y_pred))\n",
        "print(\"Accuracy score:\",round(a,1))"
      ]
    },
    {
      "cell_type": "code",
      "execution_count": null,
      "metadata": {
        "id": "SZghMBN7wnl-",
        "outputId": "255e9a11-de09-4bcb-8e21-cad97317eb4d"
      },
      "outputs": [
        {
          "data": {
            "image/png": "[encoded data removed]",
            "text/plain": [
              "<Figure size 504x288 with 2 Axes>"
            ]
          },
          "metadata": {
            "needs_background": "light"
          },
          "output_type": "display_data"
        }
      ],
      "source": [
        "#heat map for confusion matrix\n",
        "fig, ax = plt.subplots(figsize=(7,4))\n",
        "sns.heatmap(cm, annot=True, fmt='d')\n",
        "plt.show()"
      ]
    },
    {
      "cell_type": "code",
      "execution_count": null,
      "metadata": {
        "id": "c7ffrpsuwnl_",
        "outputId": "459ec37f-cdc3-4822-bc43-912b0f8d3d27"
      },
      "outputs": [
        {
          "name": "stdout",
          "output_type": "stream",
          "text": [
            "        Actual  Predicted\n",
            "43428        1          1\n",
            "49906        0          0\n",
            "29474        0          0\n",
            "276481       0          0\n",
            "278846       0          0\n",
            "101565       0          0\n",
            "260880       0          0\n",
            "214337       0          0\n",
            "201575       0          0\n",
            "81055        0          0\n",
            "134976       0          0\n",
            "237701       0          0\n",
            "256836       0          0\n",
            "97650        0          0\n",
            "158290       0          0\n",
            "246697       0          0\n",
            "68279        0          0\n",
            "267585       0          0\n",
            "26525        0          0\n",
            "74422        0          0\n",
            "206357       0          0\n",
            "257395       0          0\n",
            "283656       0          0\n",
            "231156       0          0\n",
            "38442        0          0\n"
          ]
        }
      ],
      "source": [
        "#print the actual and predicted labels\n",
        "df1 = pd.DataFrame({'Actual':y_test, 'Predicted': y_pred})\n",
        "print(df1.head(25))"
      ]
    },
    {
      "cell_type": "code",
      "execution_count": null,
      "metadata": {
        "id": "whbbZ3X4wnmA",
        "outputId": "aa8eb186-5b61-43ac-8758-a4d246a9ddee"
      },
      "outputs": [
        {
          "name": "stdout",
          "output_type": "stream",
          "text": [
            "Roc Curve evaluation\n"
          ]
        },
        {
          "data": {
            "image/png": "[encoded data removed]",
            "text/plain": [
              "<Figure size 432x288 with 1 Axes>"
            ]
          },
          "metadata": {
            "needs_background": "light"
          },
          "output_type": "display_data"
        }
      ],
      "source": [
        "#ROC curve evaluation\n",
        "print(\"Roc Curve evaluation\")\n",
        "fpr, tpr, _ = metrics.roc_curve(y_test, y_pred)\n",
        "auc = metrics.roc_auc_score(y_test, y_pred)\n",
        "plt.plot(fpr,tpr,label=\"data, auc=\"+str(auc))\n",
        "plt.legend(loc=4)\n",
        "plt.show()"
      ]
    },
    {
      "cell_type": "code",
      "execution_count": null,
      "metadata": {
        "id": "B5QvKcIswnmA"
      },
      "outputs": [],
      "source": []
    }
  ],
  "metadata": {
    "kernelspec": {
      "display_name": "Python 3",
      "language": "python",
      "name": "python3"
    },
    "language_info": {
      "codemirror_mode": {
        "name": "ipython",
        "version": 3
      },
      "file_extension": ".py",
      "mimetype": "text/x-python",
      "name": "python",
      "nbconvert_exporter": "python",
      "pygments_lexer": "ipython3",
      "version": "3.7.3"
    },
    "colab": {
      "provenance": []
    }
  },
  "nbformat": 4,
  "nbformat_minor": 0
}